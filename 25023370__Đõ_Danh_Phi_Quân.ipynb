{
  "cells": [
    {
      "cell_type": "code",
      "execution_count": null,
      "metadata": {
        "colab": {
          "base_uri": "https://localhost:8080/"
        },
        "id": "VemU9KCNXJtN",
        "outputId": "8246a80a-4198-4cc9-98f7-fdfa2a5ec8c3"
      },
      "outputs": [
        {
          "name": "stdout",
          "output_type": "stream",
          "text": [
            "Exception reporting mode: Verbose\n"
          ]
        }
      ],
      "source": [
        "%xmode Verbose"
      ]
    },
    {
      "cell_type": "code",
      "execution_count": null,
      "metadata": {
        "colab": {
          "base_uri": "https://localhost:8080/"
        },
        "id": "oYulNSk3XTRx",
        "outputId": "4b5efdf5-7fe7-424e-f601-a2ac8c04a85f"
      },
      "outputs": [
        {
          "data": {
            "text/plain": [
              "42"
            ]
          },
          "execution_count": 6,
          "metadata": {},
          "output_type": "execute_result"
        }
      ],
      "source": [
        " round(42.5)"
      ]
    },
    {
      "cell_type": "code",
      "execution_count": null,
      "metadata": {
        "colab": {
          "base_uri": "https://localhost:8080/"
        },
        "id": "qgJ25If5XX9D",
        "outputId": "962d4dac-83bd-468b-b770-504fe3f85bb2"
      },
      "outputs": [
        {
          "data": {
            "text/plain": [
              "44"
            ]
          },
          "execution_count": 5,
          "metadata": {},
          "output_type": "execute_result"
        }
      ],
      "source": [
        "round(43.5)"
      ]
    },
    {
      "cell_type": "code",
      "execution_count": null,
      "metadata": {
        "colab": {
          "base_uri": "https://localhost:8080/"
        },
        "id": "gOaW20XiXgEW",
        "outputId": "53703dd2-2ff6-44e3-ec3a-456ae352c67a"
      },
      "outputs": [
        {
          "data": {
            "text/plain": [
              "type"
            ]
          },
          "execution_count": 1,
          "metadata": {},
          "output_type": "execute_result"
        }
      ],
      "source": [
        "type(765)\n",
        "type(2.718)\n",
        "type('2 pi')\n",
        "type(abs(-7))\n",
        "type(abs(-7.0))\n",
        "type(abs)\n",
        "type(int)\n",
        "type(type)\n"
      ]
    },
    {
      "cell_type": "code",
      "execution_count": null,
      "metadata": {
        "colab": {
          "base_uri": "https://localhost:8080/"
        },
        "id": "8lrqEdz_YSvS",
        "outputId": "d0345b1c-277d-424c-e99e-c826e36db42b"
      },
      "outputs": [
        {
          "name": "stdout",
          "output_type": "stream",
          "text": [
            "6.211180124223602\n"
          ]
        }
      ],
      "source": [
        "miles = 10/(161/100)\n",
        "print(miles)"
      ]
    },
    {
      "cell_type": "code",
      "execution_count": null,
      "metadata": {
        "colab": {
          "base_uri": "https://localhost:8080/"
        },
        "id": "tLo6BPgCYmpL",
        "outputId": "ae562d5b-f180-4068-d1f1-8c7517acc35b"
      },
      "outputs": [
        {
          "name": "stdout",
          "output_type": "stream",
          "text": [
            "412.482\n"
          ]
        }
      ],
      "source": [
        "m = (42*60+42)/(10/(161/100))\n",
        "print(m)"
      ]
    },
    {
      "cell_type": "code",
      "execution_count": null,
      "metadata": {
        "colab": {
          "base_uri": "https://localhost:8080/"
        },
        "id": "mn8gLMemZRAq",
        "outputId": "085382fd-f1b1-4ab0-af12-13909499417a"
      },
      "outputs": [
        {
          "name": "stdout",
          "output_type": "stream",
          "text": [
            "6 phút 52 giây / mile\n"
          ]
        }
      ],
      "source": [
        "minutes = 42\n",
        "seconds = 42\n",
        "time = minutes * 60 + seconds\n",
        "miles = 10 / 1.609\n",
        "pace = time / miles\n",
        "\n",
        "print(int(pace // 60), \"phút\", int(pace % 60), \"giây / mile\")\n"
      ]
    },
    {
      "cell_type": "code",
      "execution_count": null,
      "metadata": {
        "colab": {
          "base_uri": "https://localhost:8080/"
        },
        "id": "szvXEPJ3apCj",
        "outputId": "f4810424-119b-4a51-a321-75880bd5068c"
      },
      "outputs": [
        {
          "name": "stdout",
          "output_type": "stream",
          "text": [
            "8.727653570337614\n"
          ]
        }
      ],
      "source": [
        "v = (10/(161/100))/(42/60 + 42/3600)\n",
        "print(v)"
      ]
    },
    {
      "cell_type": "code",
      "execution_count": null,
      "metadata": {
        "colab": {
          "base_uri": "https://localhost:8080/"
        },
        "id": "rhFW1ChBWXov",
        "outputId": "08f37620-7784-4edd-93e0-c49dd22edf86"
      },
      "outputs": [
        {
          "name": "stdout",
          "output_type": "stream",
          "text": [
            "2562\n"
          ]
        }
      ],
      "source": [
        "s = 42*60 + 42\n",
        "print(s)\n"
      ]
    },
    {
      "cell_type": "code",
      "execution_count": null,
      "metadata": {
        "colab": {
          "base_uri": "https://localhost:8080/"
        },
        "id": "P20UmVbSm1y5",
        "outputId": "ce5a55d2-bd43-4755-83b7-a9fae7956fc7"
      },
      "outputs": [
        {
          "name": "stdout",
          "output_type": "stream",
          "text": [
            "3\n",
            "6\n",
            "tong = 3 + 6\n"
          ]
        }
      ],
      "source": [
        "a = int(input())\n",
        "b = int(input())\n",
        "print(f'tong = {a} + {b}')"
      ]
    }
  ],
  "metadata": {
    "colab": {
      "provenance": []
    },
    "kernelspec": {
      "display_name": "Python 3",
      "name": "python3"
    },
    "language_info": {
      "name": "python"
    }
  },
  "nbformat": 4,
  "nbformat_minor": 0
}
