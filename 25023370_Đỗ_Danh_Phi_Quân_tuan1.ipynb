{
  "cells": [
    {
      "cell_type": "markdown",
      "metadata": {
        "id": "7gfyHte9ZBoh"
      },
      "source": [
        "*M2A1*"
      ]
    },
    {
      "cell_type": "code",
      "execution_count": null,
      "metadata": {
        "colab": {
          "base_uri": "https://localhost:8080/"
        },
        "id": "QIgJQg2rWMY6",
        "outputId": "87fcc5e2-987f-4911-92bf-10437ef836a1"
      },
      "outputs": [
        {
          "name": "stdout",
          "output_type": "stream",
          "text": [
            "TenQuan\n",
            "(Xin chao Quan )\n"
          ]
        }
      ],
      "source": [
        "a = input(\"Ten\")\n",
        "print(f'(Xin chao {a} )')"
      ]
    },
    {
      "cell_type": "markdown",
      "metadata": {
        "id": "4fLfzX_RWM03"
      },
      "source": [
        "M2A2"
      ]
    },
    {
      "cell_type": "code",
      "execution_count": null,
      "metadata": {
        "colab": {
          "base_uri": "https://localhost:8080/"
        },
        "id": "3TLGmOQAZEwL",
        "outputId": "528c7a00-d30a-4157-d2e8-58bab6352fee"
      },
      "outputs": [
        {
          "name": "stdout",
          "output_type": "stream",
          "text": [
            "Hello World\n"
          ]
        }
      ],
      "source": [
        "print(\"Hello World\")"
      ]
    },
    {
      "cell_type": "markdown",
      "metadata": {
        "id": "k8jDKr1JZpuV"
      },
      "source": [
        "M2A10"
      ]
    },
    {
      "cell_type": "code",
      "execution_count": null,
      "metadata": {
        "colab": {
          "base_uri": "https://localhost:8080/"
        },
        "id": "hfZRTuvGZr79",
        "outputId": "0a9a1e95-5cb4-468e-8791-2f693df90654"
      },
      "outputs": [
        {
          "name": "stdout",
          "output_type": "stream",
          "text": [
            "Friend name: quan binh thuong \n",
            "Friend name: kien\n",
            "Friend name: thao\n",
            "Hi , thao kien and quan binh thuong \n"
          ]
        }
      ],
      "source": [
        "a = input(\"Friend name: \")\n",
        "b = input(\"Friend name: \")\n",
        "c = input(\"Friend name: \")\n",
        "print(f'Hi , {c} {b} and {a}')\n",
        "\n",
        "\n"
      ]
    },
    {
      "cell_type": "markdown",
      "metadata": {
        "id": "4CYK60NMdyG1"
      },
      "source": [
        "M2A16"
      ]
    },
    {
      "cell_type": "code",
      "execution_count": null,
      "metadata": {
        "colab": {
          "base_uri": "https://localhost:8080/"
        },
        "id": "XHEm3b8Id1RQ",
        "outputId": "2aa6f72b-80bb-458d-fc98-5dcb69b2ebca"
      },
      "outputs": [
        {
          "name": "stdout",
          "output_type": "stream",
          "text": [
            "Spring\n",
            "Summer\n",
            "Autumn\n",
            "Winter\n"
          ]
        }
      ],
      "source": [
        "print(\"Spring\\nSummer\\nAutumn\\nWinter\")"
      ]
    },
    {
      "cell_type": "markdown",
      "metadata": {
        "id": "XevL7eyvhN1L"
      },
      "source": [
        "M2A17"
      ]
    },
    {
      "cell_type": "code",
      "execution_count": null,
      "metadata": {
        "colab": {
          "base_uri": "https://localhost:8080/"
        },
        "id": "K_dbiHYuhPy2",
        "outputId": "3744fccf-d627-42be-9910-7a81d2323d9a"
      },
      "outputs": [
        {
          "name": "stdout",
          "output_type": "stream",
          "text": [
            "*\n",
            "**\n",
            "***\n"
          ]
        }
      ],
      "source": [
        "print(\"*\\n**\\n***\")"
      ]
    },
    {
      "cell_type": "markdown",
      "metadata": {
        "id": "1Pf3RkCrhhVr"
      },
      "source": [
        "M2A18"
      ]
    },
    {
      "cell_type": "code",
      "execution_count": null,
      "metadata": {
        "colab": {
          "base_uri": "https://localhost:8080/"
        },
        "id": "r_IhRU4vhkIi",
        "outputId": "3c99cec9-6f4a-4e29-f886-c7d6594ef553"
      },
      "outputs": [
        {
          "name": "stdout",
          "output_type": "stream",
          "text": [
            "### ##  ### ### \n",
            " #  # #  #   # \n",
            " #  #  # #   # \n",
            " #  # #  #   # \n",
            " #  ##   #   # \n"
          ]
        }
      ],
      "source": [
        "print(f'### ##  ### ### ')\n",
        "print(f' #  # #  #   # ')\n",
        "print(f' #  #  # #   # ')\n",
        "print(f' #  # #  #   # ')\n",
        "print(f' #  ##   #   # ')"
      ]
    },
    {
      "cell_type": "markdown",
      "metadata": {
        "id": "Op5V-BpHjGlW"
      },
      "source": []
    },
    {
      "cell_type": "markdown",
      "metadata": {
        "id": "7BJpy3JXjGon"
      },
      "source": [
        "M2A19"
      ]
    },
    {
      "cell_type": "code",
      "execution_count": null,
      "metadata": {
        "colab": {
          "base_uri": "https://localhost:8080/"
        },
        "id": "3XaSiBRAjJTE",
        "outputId": "9a5f184f-6aa6-4b39-b31e-4bcc0351888c"
      },
      "outputs": [
        {
          "name": "stdout",
          "output_type": "stream",
          "text": [
            "Monday\n",
            "Tuesday\n",
            "Wenesday\n",
            "Thursday\n",
            "Friday\n",
            "Saturday\n",
            "Sunday\n"
          ]
        }
      ],
      "source": [
        "print(\"Monday\\nTuesday\\nWenesday\\nThursday\\nFriday\\nSaturday\\nSunday\")"
      ]
    },
    {
      "cell_type": "markdown",
      "metadata": {
        "id": "iXQFdnMskCMP"
      },
      "source": [
        "M2A20"
      ]
    },
    {
      "cell_type": "code",
      "execution_count": null,
      "metadata": {
        "colab": {
          "base_uri": "https://localhost:8080/"
        },
        "id": "lyUFqWxNkEJp",
        "outputId": "bab3f443-a34b-48f3-f237-48ae9b7b2f87"
      },
      "outputs": [
        {
          "name": "stdout",
          "output_type": "stream",
          "text": [
            "January\n",
            "February\n",
            "March\n",
            "April\n",
            "May\n",
            "June\n",
            "July\n",
            "August\n",
            "September\n",
            "October\n",
            "November\n",
            "December\n"
          ]
        }
      ],
      "source": [
        "print(\"January\\nFebruary\\nMarch\\nApril\\nMay\\nJune\\nJuly\\nAugust\\nSeptember\\nOctober\\nNovember\\nDecember\")"
      ]
    },
    {
      "cell_type": "markdown",
      "metadata": {
        "id": "Y4LRsPjJkVMt"
      },
      "source": [
        "M2A21"
      ]
    },
    {
      "cell_type": "code",
      "execution_count": null,
      "metadata": {
        "colab": {
          "base_uri": "https://localhost:8080/"
        },
        "id": "VWTwzbh3kWwZ",
        "outputId": "2febdda2-86b1-4801-a109-c32d3028b27c"
      },
      "outputs": [
        {
          "name": "stdout",
          "output_type": "stream",
          "text": [
            "Hello World\n",
            "Hello World\n",
            "Hello World\n",
            "Hello World\n",
            "Hello World\n",
            "Hello World\n",
            "Hello World\n",
            "Hello World\n",
            "Hello World\n",
            "Hello World\n"
          ]
        }
      ],
      "source": [
        "for i in range (10):\n",
        "  print(\"Hello World\")"
      ]
    },
    {
      "cell_type": "markdown",
      "metadata": {
        "id": "ENZk8_NIC2-j"
      },
      "source": [
        "M2A3"
      ]
    },
    {
      "cell_type": "code",
      "execution_count": null,
      "metadata": {
        "colab": {
          "base_uri": "https://localhost:8080/"
        },
        "id": "qBrvfu1o2qoU",
        "outputId": "90100258-3bb9-4e56-cb03-a710a43edfc4"
      },
      "outputs": [
        {
          "name": "stdout",
          "output_type": "stream",
          "text": [
            " a =5678\n",
            " b =36\n",
            "Tong = 5714\n",
            "Hieu = 5642\n",
            "Tich = 204408\n",
            "Phan Nguyen = 157\n",
            "Phan Du = 26\n",
            "Thuong = 157.72\n"
          ]
        }
      ],
      "source": [
        "a = int(input(' a ='))\n",
        "b = int(input(' b ='))\n",
        "tong = a + b\n",
        "hieu = a - b\n",
        "tich = a * b\n",
        "phannguyen = a // b\n",
        "phandu = a % b\n",
        "thuong = a / b\n",
        "print(f'Tong = {tong}')\n",
        "print(f'Hieu = {hieu}')\n",
        "print(f'Tich = {tich}')\n",
        "print(f'Phan Nguyen = {phannguyen}')\n",
        "print(f'Phan Du = {phandu}')\n",
        "print(f'Thuong = {thuong:.2f}')"
      ]
    },
    {
      "cell_type": "markdown",
      "metadata": {
        "id": "-eiqxne479WR"
      },
      "source": [
        "M2A4"
      ]
    },
    {
      "cell_type": "code",
      "execution_count": null,
      "metadata": {
        "colab": {
          "base_uri": "https://localhost:8080/"
        },
        "id": "BO_RAMzk8BhP",
        "outputId": "fa7bee0d-fc17-4c28-a323-824e4222c2f2"
      },
      "outputs": [
        {
          "name": "stdout",
          "output_type": "stream",
          "text": [
            "Nhập điểm : 8 10 9 8 6 8 \n",
            "Điểm trung bình là : 8.2\n"
          ]
        }
      ],
      "source": [
        "a1, b1, c1, a2, b2, a3 = list(map(int,input('Nhập điểm : ').split()))\n",
        "TBC = (a1 + b1 + c1 + a2 + b2 + a3) / 6\n",
        "print(f'Điểm trung bình là : {TBC:.1f}')"
      ]
    },
    {
      "cell_type": "markdown",
      "metadata": {
        "id": "p9x1imDnBchx"
      },
      "source": [
        "M2A5"
      ]
    },
    {
      "cell_type": "code",
      "execution_count": null,
      "metadata": {
        "colab": {
          "base_uri": "https://localhost:8080/"
        },
        "id": "DAdQ6-YHBeI1",
        "outputId": "105032a8-59df-4999-ff00-25377be2301e"
      },
      "outputs": [
        {
          "name": "stdout",
          "output_type": "stream",
          "text": [
            "Nhap a, b4 6\n",
            "Luu thua = 4096\n"
          ]
        }
      ],
      "source": [
        "a, b = list(map(int,input('Nhap a, b').split()))\n",
        "t= a**b\n",
        "print(f'Luu thua = {t}')"
      ]
    },
    {
      "cell_type": "markdown",
      "metadata": {
        "id": "DKdVmPIHGLXj"
      },
      "source": [
        "M2A6"
      ]
    },
    {
      "cell_type": "code",
      "execution_count": null,
      "metadata": {
        "colab": {
          "base_uri": "https://localhost:8080/"
        },
        "id": "tafyJUoyJud0",
        "outputId": "3814a04c-1f43-4a2e-d1c4-87bc4498137b"
      },
      "outputs": [
        {
          "name": "stdout",
          "output_type": "stream",
          "text": [
            "\u0004\n",
            "\u0004\n"
          ]
        }
      ],
      "source": [
        "print(chr(a))\n",
        "print(chr(A))\n"
      ]
    },
    {
      "cell_type": "markdown",
      "metadata": {
        "id": "v24_14cQKUaQ"
      },
      "source": [
        "M2A7"
      ]
    },
    {
      "cell_type": "code",
      "execution_count": null,
      "metadata": {
        "colab": {
          "base_uri": "https://localhost:8080/"
        },
        "id": "cozWkPX0KV-N",
        "outputId": "b4ec3c12-0d9f-4db5-dd69-6d85743b8d87"
      },
      "outputs": [
        {
          "name": "stdout",
          "output_type": "stream",
          "text": [
            "512\n",
            "512\n"
          ]
        }
      ],
      "source": [
        "A = ((13** 2) * 3) + 5\n",
        "B = 13**2*3 + 5\n",
        "print (A)\n",
        "print (B)"
      ]
    },
    {
      "cell_type": "markdown",
      "metadata": {
        "id": "R6wf9P3UK7lO"
      },
      "source": [
        "M2A8"
      ]
    },
    {
      "cell_type": "code",
      "execution_count": null,
      "metadata": {
        "colab": {
          "base_uri": "https://localhost:8080/"
        },
        "id": "S3NNObKiK_FG",
        "outputId": "ffa3ea55-304c-4ddc-c890-ec3553a0c729"
      },
      "outputs": [
        {
          "name": "stdout",
          "output_type": "stream",
          "text": [
            " Nhập nhiệt độ C : 36\n",
            "Nhiệt độ F = 96.8\n"
          ]
        }
      ],
      "source": [
        "c = float(input(' Nhập nhiệt độ C : '))\n",
        "f = 9/5*c + 32\n",
        "print(f'Nhiệt độ F = {f}')"
      ]
    },
    {
      "cell_type": "markdown",
      "metadata": {
        "id": "lDB6hoE8MOeS"
      },
      "source": [
        "M2A9\n"
      ]
    },
    {
      "cell_type": "code",
      "execution_count": null,
      "metadata": {
        "colab": {
          "base_uri": "https://localhost:8080/"
        },
        "id": "tfnIc3rpMQdc",
        "outputId": "ff98c46b-7f26-41c5-fb7e-2fa687260501"
      },
      "outputs": [
        {
          "name": "stdout",
          "output_type": "stream",
          "text": [
            "Tiengoccuadongho :36\n",
            "Bi hut mau = 64.40\n"
          ]
        }
      ],
      "source": [
        "x = float(input( 'Tiengoccuadongho :'))\n",
        "tong = (x+10)*(1 + 30/100 + 10/100)\n",
        "print(f'Bi hut mau = {tong:.2f}')"
      ]
    },
    {
      "cell_type": "markdown",
      "metadata": {
        "id": "8Lj4IJgIODSa"
      },
      "source": [
        "M2A11"
      ]
    },
    {
      "cell_type": "code",
      "execution_count": null,
      "metadata": {
        "colab": {
          "base_uri": "https://localhost:8080/"
        },
        "id": "t1cv2UCtOJ9a",
        "outputId": "b2d158a6-fc89-490a-db82-10fc83422f9c"
      },
      "outputs": [
        {
          "name": "stdout",
          "output_type": "stream",
          "text": [
            "Nhap gio :3\n",
            "Nhap phut :6\n",
            "3 gio 6 phut = 11160\n"
          ]
        }
      ],
      "source": [
        "h = int(input('Nhap gio :'))\n",
        "m = int(input('Nhap phut :'))\n",
        "s = h*3600 + m*60\n",
        "print(f'{h} gio {m} phut = {s}')\n"
      ]
    },
    {
      "cell_type": "markdown",
      "metadata": {
        "id": "NmwCmkR4ikCq"
      },
      "source": [
        "M2A12"
      ]
    },
    {
      "cell_type": "code",
      "execution_count": null,
      "metadata": {
        "colab": {
          "base_uri": "https://localhost:8080/"
        },
        "id": "i57na_2Fimen",
        "outputId": "702cfc63-c066-43d5-ea8b-9181d8f2515c"
      },
      "outputs": [
        {
          "name": "stdout",
          "output_type": "stream",
          "text": [
            " Do dai canh : 4\n",
            "Số miếng dán = 96\n"
          ]
        }
      ],
      "source": [
        "n = int(input(' Do dai canh : '))\n",
        "S = n*n*6\n",
        "print(f'Số miếng dán = {S}')"
      ]
    },
    {
      "cell_type": "markdown",
      "metadata": {
        "id": "Jthqqg_tkezI"
      },
      "source": [
        "M2A13"
      ]
    },
    {
      "cell_type": "code",
      "execution_count": null,
      "metadata": {
        "colab": {
          "base_uri": "https://localhost:8080/"
        },
        "id": "NAC7Qq5dkghE",
        "outputId": "dd46a81c-cb39-46ac-f0ed-2f7e2843cdff"
      },
      "outputs": [
        {
          "name": "stdout",
          "output_type": "stream",
          "text": [
            " Nhap a : 36\n",
            " Nhap b : 63\n",
            " So hang don vi = 8\n"
          ]
        }
      ],
      "source": [
        "a = int(input(' Nhap a : '))\n",
        "b = int(input(' Nhap b : '))\n",
        "A = a * b\n",
        "y = A % 10\n",
        "print(f' So hang don vi = {y}')\n"
      ]
    },
    {
      "cell_type": "code",
      "execution_count": null,
      "metadata": {
        "id": "WT8cZDlKl1kj"
      },
      "outputs": [],
      "source": [
        "M2A14"
      ]
    },
    {
      "cell_type": "code",
      "execution_count": null,
      "metadata": {
        "colab": {
          "base_uri": "https://localhost:8080/"
        },
        "id": "yWv3_XDSl3fF",
        "outputId": "a908e860-cfe5-411b-e4d2-e51a4f2ce4ca"
      },
      "outputs": [
        {
          "name": "stdout",
          "output_type": "stream",
          "text": [
            " Nhap a : 5\n",
            " Nhap b : 4\n",
            "a = 4 , b = 5 \n"
          ]
        }
      ],
      "source": [
        "a = int(input(' Nhap a : '))\n",
        "b = int(input(' Nhap b : '))\n",
        "print(f'a = {b} , b = {a} 4')"
      ]
    },
    {
      "cell_type": "code",
      "execution_count": null,
      "metadata": {
        "id": "XgvW4Y1ZquR6"
      },
      "outputs": [],
      "source": [
        "M2A15"
      ]
    },
    {
      "cell_type": "code",
      "execution_count": null,
      "metadata": {
        "colab": {
          "base_uri": "https://localhost:8080/"
        },
        "id": "OGYB47GT5m9C",
        "outputId": "a8adb9ec-8a6d-4f0a-9ea3-fe91f797990f"
      },
      "outputs": [
        {
          "name": "stdout",
          "output_type": "stream",
          "text": [
            " Nhap n : 8\n",
            "Số sao thứ 8 = 337\n"
          ]
        }
      ],
      "source": [
        "n = int(input(' Nhap n : '))\n",
        "S = 6 * n * (n-1) + 1\n",
        "print(f'Số sao thứ {n} = {S}')"
      ]
    }
  ],
  "metadata": {
    "colab": {
      "provenance": []
    },
    "kernelspec": {
      "display_name": "Python 3",
      "name": "python3"
    },
    "language_info": {
      "name": "python"
    }
  },
  "nbformat": 4,
  "nbformat_minor": 0
}
